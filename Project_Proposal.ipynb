{
  "nbformat": 4,
  "nbformat_minor": 0,
  "metadata": {
    "colab": {
      "provenance": [],
      "authorship_tag": "ABX9TyOwizSR86J+diO7j5Ynvay6",
      "include_colab_link": true
    },
    "kernelspec": {
      "name": "python3",
      "display_name": "Python 3"
    },
    "language_info": {
      "name": "python"
    }
  },
  "cells": [
    {
      "cell_type": "markdown",
      "metadata": {
        "id": "view-in-github",
        "colab_type": "text"
      },
      "source": [
        "<a href=\"https://colab.research.google.com/github/Jlok17/Data620/blob/main/Project_Proposal.ipynb\" target=\"_parent\"><img src=\"https://colab.research.google.com/assets/colab-badge.svg\" alt=\"Open In Colab\"/></a>"
      ]
    },
    {
      "cell_type": "markdown",
      "source": [
        "## Final Project Proposal\n",
        "**Goals:**\n",
        "1.   Determine if there is a link between the Coach and the Offense/Defense Performance\n",
        "2.   Figure out which coaches are the most influential and most connected within the NFL\n",
        "3. Determine if there is a correlation between getting a head coach position and what the team hiring them for was lacking  \n",
        "\n"
      ],
      "metadata": {
        "id": "qqZOVeENaPmI"
      }
    },
    {
      "cell_type": "markdown",
      "source": [
        "#### **Overview:**\n",
        "For the most part of this study, I will looking at the social network between the head coaches of each team as well as the positional coaches to determine which coaches are the most connected. With this I hope to be able to gather information how each coach did during their tenure with a certain team to see if they impacted the Offense or Defense positively or negatively."
      ],
      "metadata": {
        "id": "Qkjo4LK_aPpb"
      }
    },
    {
      "cell_type": "markdown",
      "source": [
        "#### **Data Source:**\n",
        "For the most part I expect to us the data sources as show below but will try to find additional sources to help supplement the last 10-15 years of coaching trees to see if there was an impact over time if possible. If there isn't a direct source I expect to Wikipedia the previous season for each team to see if the data and implement them into a dataframe.\n",
        "\n",
        "\n",
        "The Source of the Data I expect to use is the following:\n",
        "\n",
        "\n",
        "\n",
        "*   https://pro-football-history.com/coaches\n",
        "*   https://www.pro-football-reference.com/\n",
        "*https://www.espn.com/nfl/\n",
        "*https://www.nfl.com/teams/\n",
        "* Others as Needed*\n",
        "\n",
        "\n"
      ],
      "metadata": {
        "id": "GCM7EV0Xc9Bh"
      }
    },
    {
      "cell_type": "markdown",
      "source": [
        "#### **Methodology:**\n",
        "\n",
        "For Methodology, this one is expected to be interesting as for the nodes the weights are going to try and be determined by what type of connection each coach as to each other. So for an example an offensive position coach would probably not interact or have an effect on a defensive head coach as they are calling the opposite side of the game but however they might talk informally or a have a minor connection. The opposite side of this for an example is a head coach such as Andy Reid and his Offensive Coordinator Eric Bieniemy would have a huge connection as they work closely with one another.\n",
        "\n",
        "\n",
        "\n",
        "\n",
        "\n",
        "Another thing as stated previously that I would like to include is the ranking of the group the coach to impact the weight of how significant they are. For an example here if a coach who is a positional coach for the wide recievers, and under their tenure the wide reciever group was ranked top 5 of each year. That coach would have a higher weight due to the implied impact they had with that positional group.\n",
        "\n",
        "\n"
      ],
      "metadata": {
        "id": "B1-8wMnuaP3q"
      }
    },
    {
      "cell_type": "markdown",
      "source": [
        "#### **Concerns and Troubleshooting:**\n",
        "\n",
        "Some concerns I have is that the weights and the connection between coaches are going to represent a unreliable or non direct relation. There is something to be known as not every team has top tier talent as there are certain indivuals that are just better and can do perform well even if the coaching staff is irrelevant to the process. Other issues that might come up is that only the known staff are going to be the central or impact nodes as for an example it known that Coaches that work under Bill Belicheck will have higher coaching opportunities compared to other coaches as he is known the greatest coach of all time.\n",
        "\n",
        "Troubleshooting might come across with concerns as the proper weights aren't a known factor and will rely on my arbitary reasoning. This will cause potential incorrect reading on the different weight of each node and take the ranking on how each group did off the stastical means as they would be weighed based on my own ideas."
      ],
      "metadata": {
        "id": "dUPkLMvjaPxr"
      }
    },
    {
      "cell_type": "markdown",
      "source": [
        "#### **Results:**\n",
        "\n",
        "Expected results would be such as the following: There is a complete network of coaches and there is shown that some positional coaches impact the game on general compared to just the head coaches as shown in the media. That there is a process to hiring a coach may that be due to neopotism or the coach knows the right people or more based on the results of their individual coaching resume. Seeing the longevity of those decisions as I am trying to use a 10-15 year frame of data, most head coaches last around 4 years per a team as due to the nature of every one wanting to be competitive and at the top of the field. As an anology \"there are just too many mouths too feed\" to show there is a limited amount of finite highly positive opportunity."
      ],
      "metadata": {
        "id": "vf1ZLaRbaP01"
      }
    }
  ]
}