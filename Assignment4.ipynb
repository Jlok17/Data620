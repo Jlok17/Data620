{
  "nbformat": 4,
  "nbformat_minor": 0,
  "metadata": {
    "colab": {
      "provenance": [],
      "authorship_tag": "ABX9TyMSFIdw9nseHQ7VYVBCTYXV",
      "include_colab_link": true
    },
    "kernelspec": {
      "name": "python3",
      "display_name": "Python 3"
    },
    "language_info": {
      "name": "python"
    }
  },
  "cells": [
    {
      "cell_type": "markdown",
      "metadata": {
        "id": "view-in-github",
        "colab_type": "text"
      },
      "source": [
        "<a href=\"https://colab.research.google.com/github/Jlok17/Data620/blob/main/Assignment4.ipynb\" target=\"_parent\"><img src=\"https://colab.research.google.com/assets/colab-badge.svg\" alt=\"Open In Colab\"/></a>"
      ]
    },
    {
      "cell_type": "markdown",
      "source": [
        "## Assignment 4: Centrality Measures\n",
        "\n",
        "The purpose of this assignment is to identify an interesting set of network data that is available on the web (either through web scraping or web APIs) that could be used for analyzing and comparing centrality measures across nodes.  As an additional constraint, there should be at least one categorical variable available for each node (such as “Male” or “Female”; “Republican”, “Democrat,” or “Undecided”, etc.)"
      ],
      "metadata": {
        "id": "idqRvQofzpcx"
      }
    },
    {
      "cell_type": "markdown",
      "source": [
        "### Data Set:\n",
        "The Data Set I will be using is about [International Currencies 1890-1910 ](https://eh.net/database/international-currencies-1890-1910/).\n",
        "\n",
        "A quick overview of this data set is includes 45 different currencies between the period of 1890 and 1910. The reason why this data was collected is that during that period, many national financial centre featured a foreign exchange market where banks traded foreign currency. As these markets were traded against their own domestic currency, this network shows a flow of trade and global market transaction between each nation and their economic power.  "
      ],
      "metadata": {
        "id": "EN-IEouNzyuT"
      }
    },
    {
      "cell_type": "markdown",
      "source": [
        "### Variables:\n",
        "* Country_A: The location of the foreign Exchange market\n",
        "* Country_B: Home country of the currency traded\n",
        "* Quote1890/Quote1900/Quote1910: Indicates if the market was active for Country B\t\n",
        "* Colony: Indicator if Country_A is a colony of Country_B\n",
        "* Dist: Log distance between cities with foreign exchange markets\n",
        "* Bitrade: Total trade between Country_A and Country_B in US Dollar(Thousands)\n",
        "* Gold: If Country_A has a currency convertilbe in gold in 1900\n",
        "* Debtburden: Ratio of government debt over government revenues in 1900\n",
        "* Rlong: Secondary Market yield for gold demoninated government debt in 1900\n",
        "* Rshort1900/Rshort1890: Market rate for 3 month lending\n",
        "* Rgdp: Log 1900 real GDP\n",
        "* Rgdpcap: Log real GDP per Capita\n",
        "* Poldemo: Index of democracy of Polyarchy dataset \n",
        "* Coverage: Logarithm of the number of currencies traded in Country_A\n",
        "\n",
        "**1.   Following Variables are Repeated ones from Above but for Country_B**\n",
        "\n",
        "* Gold_B\n",
        "* Debtburden_B\n",
        "* Rlong_B\n",
        "* Rshort1900_B\n",
        "* Rshort1890_B\n",
        "* Rgdp_B\n",
        "* Rgdpcap_B"
      ],
      "metadata": {
        "id": "MrJ6g6d0V7LD"
      }
    },
    {
      "cell_type": "markdown",
      "source": [
        "### Centrality Measures\n",
        "\n",
        "* Degree Centrality: Measures the number of direct connections each node has within the network.\n",
        "\n",
        "* Closeness Centrality: Calculates the shortest paths between all nodes and assigns each node a score based on the sum of its distances to all other nodes.\n",
        "\n",
        "* Betweenness Centrality: Identifies the nodes that act as \"bridges\" or intermediaries between other nodes in the network.\n",
        "\n",
        "* PageRank: Reveals different nodes that possess influence beyond their direct connections.\n",
        "\n",
        "* EigenCentrality: Examines the extended connections of a node to identify the node's influence over the network.\n"
      ],
      "metadata": {
        "id": "ioHsncoyV9kr"
      }
    },
    {
      "cell_type": "markdown",
      "source": [
        "### Expected Process\n",
        "\n",
        "\n",
        "---\n",
        "\n",
        "\n",
        "1.   Load Data uploaded into Github\n",
        "2.   Pull Data from Github into Python \n",
        "3. Separate dataframe into variables (Country_A/Country_B/Bitrade/Dist/Colony)\n",
        "4. Place data into NetworkX for analyzation and visualization\n",
        "5. Calculate the Centrality Measures for the top 10 Foreign Markets\n",
        "\n",
        "\n",
        "\n",
        "---\n",
        "\n",
        "It should be noted that for the top 10 foreign markets within this network I expect 8 of them to be backed by gold as well as surprising on the coasts of the continents as trade at this time was primarily via ships and freights. With that being said I can see a possibility with a couple of these top 10 foreign markets being colonies of one of the other top 10 markets as it has an establish connection from where the colony is to its empire. This would allow trade routes as well as currency familiarity to have an easier method of trust between the 2 countries. "
      ],
      "metadata": {
        "id": "yfWOcJKGV9T_"
      }
    },
    {
      "cell_type": "markdown",
      "source": [
        "#### References:\n",
        "\n",
        "Flandreau, M. and C. Jobst (2005), ‘The ties that divide: a network analysis of the international monetary system 1890–1910’, Journal of Economic History, vol. 65(4).\n",
        "\n"
      ],
      "metadata": {
        "id": "VMBqzo7xzy9h"
      }
    }
  ]
}