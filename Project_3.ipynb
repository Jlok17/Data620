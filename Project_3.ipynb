{
  "nbformat": 4,
  "nbformat_minor": 0,
  "metadata": {
    "colab": {
      "provenance": [],
      "authorship_tag": "ABX9TyMmhbbOkF5MvMcy4hka/GJq",
      "include_colab_link": true
    },
    "kernelspec": {
      "name": "python3",
      "display_name": "Python 3"
    },
    "language_info": {
      "name": "python"
    }
  },
  "cells": [
    {
      "cell_type": "markdown",
      "metadata": {
        "id": "view-in-github",
        "colab_type": "text"
      },
      "source": [
        "<a href=\"https://colab.research.google.com/github/Jlok17/Data620/blob/main/Project_3.ipynb\" target=\"_parent\"><img src=\"https://colab.research.google.com/assets/colab-badge.svg\" alt=\"Open In Colab\"/></a>"
      ]
    },
    {
      "cell_type": "markdown",
      "source": [
        "## Project 3:\n",
        "Using any of the three classifiers described in chapter 6 of Natural Language Processing with Python, and any features you can think of, build the best name gender classifier you can. Begin by splitting the Names Corpus into three subsets: 500 words for the test set, 500 words for the dev-test set, and the remaining 6900 words for the training set. Then, starting with the example name gender classifier, make incremental improvements. Use the dev-test set to check your progress. Once you are satisfied with your classifier, check its final performance on the test set. How does the performance on the test set compare to the performance on the dev-test set? Is this what you'd expect?"
      ],
      "metadata": {
        "id": "edx-Q5V3pKZ2"
      }
    },
    {
      "cell_type": "code",
      "execution_count": 157,
      "metadata": {
        "id": "G1Wsx-6opIem"
      },
      "outputs": [],
      "source": [
        "import nltk\n",
        "import pandas as pd\n",
        "import random\n",
        "import numpy as np\n",
        "from sklearn.ensemble import StackingClassifier\n",
        "from sklearn.linear_model import LogisticRegression\n",
        "from sklearn.model_selection import train_test_split\n",
        "from sklearn.metrics import accuracy_score, confusion_matrix\n",
        "from sklearn.naive_bayes import MultinomialNB\n",
        "from sklearn.tree import DecisionTreeClassifier\n",
        "from sklearn.feature_extraction.text import CountVectorizer\n",
        "from sklearn.preprocessing import LabelEncoder"
      ]
    },
    {
      "cell_type": "code",
      "source": [
        "nltk.download('names')\n",
        "from nltk.corpus import names"
      ],
      "metadata": {
        "colab": {
          "base_uri": "https://localhost:8080/"
        },
        "id": "bg-3Cmws78jt",
        "outputId": "0bc76721-7ae4-411f-8d7f-d48b04b67767"
      },
      "execution_count": 158,
      "outputs": [
        {
          "output_type": "stream",
          "name": "stderr",
          "text": [
            "[nltk_data] Downloading package names to /root/nltk_data...\n",
            "[nltk_data]   Package names is already up-to-date!\n"
          ]
        }
      ]
    },
    {
      "cell_type": "code",
      "source": [
        "# Filtering Name Set to Remove Unisex Names\n",
        "males = [(name.lower().strip(), 'male') for name in names.words('male.txt')]\n",
        "females = [(name.lower().strip(), 'female') for name in names.words('female.txt')]\n",
        "\n",
        "unisex = set(male_name for male_name, _ in males) & set(female_name for female_name, _ in females)\n",
        "males = [(name, gender) for name, gender in males if name not in unisex]\n",
        "females = [(name, gender) for name, gender in females if name not in unisex]\n",
        "\n",
        "all_names = males + females"
      ],
      "metadata": {
        "id": "kc96cI8lQCH-"
      },
      "execution_count": 159,
      "outputs": []
    },
    {
      "cell_type": "code",
      "source": [
        "all_names_df = pd.DataFrame(all_names, columns=['Name', 'Gender'])\n",
        "all_names_df.head"
      ],
      "metadata": {
        "colab": {
          "base_uri": "https://localhost:8080/"
        },
        "id": "yXYkbx7I6ZJS",
        "outputId": "8650e5e5-fe12-47c6-9bcb-8afca950cb2a"
      },
      "execution_count": 160,
      "outputs": [
        {
          "output_type": "execute_result",
          "data": {
            "text/plain": [
              "<bound method NDFrame.head of          Name  Gender\n",
              "0       aamir    male\n",
              "1       aaron    male\n",
              "2       abbot    male\n",
              "3      abbott    male\n",
              "4       abdel    male\n",
              "...       ...     ...\n",
              "7208   zorine  female\n",
              "7209  zsa zsa  female\n",
              "7210   zsazsa  female\n",
              "7211   zulema  female\n",
              "7212   zuzana  female\n",
              "\n",
              "[7213 rows x 2 columns]>"
            ]
          },
          "metadata": {},
          "execution_count": 160
        }
      ]
    },
    {
      "cell_type": "markdown",
      "source": [
        "#### Feature Engineering:"
      ],
      "metadata": {
        "id": "Gr75iUMSuWfQ"
      }
    },
    {
      "cell_type": "code",
      "source": [
        "def gender_features(name):\n",
        "    features = {}\n",
        "    features[\"firstletter\"] = name[0].lower()\n",
        "    features[\"lastletter\"] = name[-1].lower()\n",
        "    features[\"last_is_vowel\"] = name[-1] in 'aeiouy'\n",
        "\n",
        "    for letter in 'abcdefghijklmnopqrstuvwxyz':\n",
        "        features[f\"count({letter})\"] = name.lower().count(letter)\n",
        "        features[f\"has({letter})\"] = letter in name.lower()\n",
        "        features[f\"first({letter})\"] = name.lower().find(letter)\n",
        "\n",
        "    features[\"suffix2\"] = name[-2:].lower()\n",
        "    features[\"last2\"] = name[-2:].lower()\n",
        "\n",
        "    if len(name) >= 3:\n",
        "        features[\"last3\"] = name[-3:].lower()\n",
        "    else:\n",
        "        features[\"last3\"] = \" \" + name[-2:].lower()\n",
        "\n",
        "    features[\"length\"] = len(name)\n",
        "\n",
        "    return features\n"
      ],
      "metadata": {
        "id": "q0PTPCoCAIaw"
      },
      "execution_count": 161,
      "outputs": []
    },
    {
      "cell_type": "code",
      "source": [
        "all_names_df = all_names_df.join(\n",
        "    all_names_df['Name'].apply(lambda x: pd.Series(gender_features(x)))\n",
        ")\n",
        "all_names_df.head"
      ],
      "metadata": {
        "colab": {
          "base_uri": "https://localhost:8080/"
        },
        "id": "mCN_W4aScqy8",
        "outputId": "1c663bae-6687-4eb5-90cd-5a65046d67d3"
      },
      "execution_count": 162,
      "outputs": [
        {
          "output_type": "execute_result",
          "data": {
            "text/plain": [
              "<bound method NDFrame.head of          Name  Gender firstletter lastletter  last_is_vowel  count(a)  has(a)  \\\n",
              "0       aamir    male           a          r          False         2    True   \n",
              "1       aaron    male           a          n          False         2    True   \n",
              "2       abbot    male           a          t          False         1    True   \n",
              "3      abbott    male           a          t          False         1    True   \n",
              "4       abdel    male           a          l          False         1    True   \n",
              "...       ...     ...         ...        ...            ...       ...     ...   \n",
              "7208   zorine  female           z          e           True         0   False   \n",
              "7209  zsa zsa  female           z          a           True         2    True   \n",
              "7210   zsazsa  female           z          a           True         2    True   \n",
              "7211   zulema  female           z          a           True         1    True   \n",
              "7212   zuzana  female           z          a           True         2    True   \n",
              "\n",
              "      first(a)  count(b)  has(b)  ...  count(y)  has(y)  first(y)  count(z)  \\\n",
              "0            0         0   False  ...         0   False        -1         0   \n",
              "1            0         0   False  ...         0   False        -1         0   \n",
              "2            0         2    True  ...         0   False        -1         0   \n",
              "3            0         2    True  ...         0   False        -1         0   \n",
              "4            0         1    True  ...         0   False        -1         0   \n",
              "...        ...       ...     ...  ...       ...     ...       ...       ...   \n",
              "7208        -1         0   False  ...         0   False        -1         1   \n",
              "7209         2         0   False  ...         0   False        -1         2   \n",
              "7210         2         0   False  ...         0   False        -1         2   \n",
              "7211         5         0   False  ...         0   False        -1         1   \n",
              "7212         3         0   False  ...         0   False        -1         2   \n",
              "\n",
              "      has(z)  first(z)  suffix2  last2  last3  length  \n",
              "0      False        -1       ir     ir    mir       5  \n",
              "1      False        -1       on     on    ron       5  \n",
              "2      False        -1       ot     ot    bot       5  \n",
              "3      False        -1       tt     tt    ott       6  \n",
              "4      False        -1       el     el    del       5  \n",
              "...      ...       ...      ...    ...    ...     ...  \n",
              "7208    True         0       ne     ne    ine       6  \n",
              "7209    True         0       sa     sa    zsa       7  \n",
              "7210    True         0       sa     sa    zsa       6  \n",
              "7211    True         0       ma     ma    ema       6  \n",
              "7212    True         0       na     na    ana       6  \n",
              "\n",
              "[7213 rows x 87 columns]>"
            ]
          },
          "metadata": {},
          "execution_count": 162
        }
      ]
    },
    {
      "cell_type": "code",
      "source": [
        "# Randomly select indices for test, dev-test, and training sets\n",
        "test_indices = all_names_df.sample(n=500, random_state=42).index\n",
        "dev_test_indices = all_names_df.drop(test_indices).sample(n=500, random_state=123).index\n",
        "train_indices = all_names_df.drop(test_indices).drop(dev_test_indices).index\n",
        "\n",
        "test_set = all_names_df.loc[test_indices]\n",
        "dev_test_set = all_names_df.loc[dev_test_indices]\n",
        "train_set = all_names_df.loc[train_indices]\n",
        "test_set.head(5)"
      ],
      "metadata": {
        "colab": {
          "base_uri": "https://localhost:8080/",
          "height": 300
        },
        "id": "Sh5H6br2dOYM",
        "outputId": "7ec48512-950d-4b33-a898-47e92b05c8a7"
      },
      "execution_count": 169,
      "outputs": [
        {
          "output_type": "execute_result",
          "data": {
            "text/plain": [
              "          Name  Gender firstletter lastletter  last_is_vowel  count(a)  \\\n",
              "308      brock    male           b          k          False         0   \n",
              "381    chelton    male           c          n          False         0   \n",
              "5716   marleen  female           m          n          False         1   \n",
              "2312     tyler    male           t          r          False         0   \n",
              "251   benjamin    male           b          n          False         1   \n",
              "\n",
              "      has(a)  first(a)  count(b)  has(b)  ...  count(y)  has(y)  first(y)  \\\n",
              "308    False        -1         1    True  ...         0   False        -1   \n",
              "381    False        -1         0   False  ...         0   False        -1   \n",
              "5716    True         1         0   False  ...         0   False        -1   \n",
              "2312   False        -1         0   False  ...         1    True         1   \n",
              "251     True         4         1    True  ...         0   False        -1   \n",
              "\n",
              "      count(z)  has(z)  first(z)  suffix2  last2  last3  length  \n",
              "308          0   False        -1       ck     ck    ock       5  \n",
              "381          0   False        -1       on     on    ton       7  \n",
              "5716         0   False        -1       en     en    een       7  \n",
              "2312         0   False        -1       er     er    ler       5  \n",
              "251          0   False        -1       in     in    min       8  \n",
              "\n",
              "[5 rows x 87 columns]"
            ],
            "text/html": [
              "\n",
              "  <div id=\"df-b8637fb4-99cf-437b-bf3b-57cb56217310\">\n",
              "    <div class=\"colab-df-container\">\n",
              "      <div>\n",
              "<style scoped>\n",
              "    .dataframe tbody tr th:only-of-type {\n",
              "        vertical-align: middle;\n",
              "    }\n",
              "\n",
              "    .dataframe tbody tr th {\n",
              "        vertical-align: top;\n",
              "    }\n",
              "\n",
              "    .dataframe thead th {\n",
              "        text-align: right;\n",
              "    }\n",
              "</style>\n",
              "<table border=\"1\" class=\"dataframe\">\n",
              "  <thead>\n",
              "    <tr style=\"text-align: right;\">\n",
              "      <th></th>\n",
              "      <th>Name</th>\n",
              "      <th>Gender</th>\n",
              "      <th>firstletter</th>\n",
              "      <th>lastletter</th>\n",
              "      <th>last_is_vowel</th>\n",
              "      <th>count(a)</th>\n",
              "      <th>has(a)</th>\n",
              "      <th>first(a)</th>\n",
              "      <th>count(b)</th>\n",
              "      <th>has(b)</th>\n",
              "      <th>...</th>\n",
              "      <th>count(y)</th>\n",
              "      <th>has(y)</th>\n",
              "      <th>first(y)</th>\n",
              "      <th>count(z)</th>\n",
              "      <th>has(z)</th>\n",
              "      <th>first(z)</th>\n",
              "      <th>suffix2</th>\n",
              "      <th>last2</th>\n",
              "      <th>last3</th>\n",
              "      <th>length</th>\n",
              "    </tr>\n",
              "  </thead>\n",
              "  <tbody>\n",
              "    <tr>\n",
              "      <th>308</th>\n",
              "      <td>brock</td>\n",
              "      <td>male</td>\n",
              "      <td>b</td>\n",
              "      <td>k</td>\n",
              "      <td>False</td>\n",
              "      <td>0</td>\n",
              "      <td>False</td>\n",
              "      <td>-1</td>\n",
              "      <td>1</td>\n",
              "      <td>True</td>\n",
              "      <td>...</td>\n",
              "      <td>0</td>\n",
              "      <td>False</td>\n",
              "      <td>-1</td>\n",
              "      <td>0</td>\n",
              "      <td>False</td>\n",
              "      <td>-1</td>\n",
              "      <td>ck</td>\n",
              "      <td>ck</td>\n",
              "      <td>ock</td>\n",
              "      <td>5</td>\n",
              "    </tr>\n",
              "    <tr>\n",
              "      <th>381</th>\n",
              "      <td>chelton</td>\n",
              "      <td>male</td>\n",
              "      <td>c</td>\n",
              "      <td>n</td>\n",
              "      <td>False</td>\n",
              "      <td>0</td>\n",
              "      <td>False</td>\n",
              "      <td>-1</td>\n",
              "      <td>0</td>\n",
              "      <td>False</td>\n",
              "      <td>...</td>\n",
              "      <td>0</td>\n",
              "      <td>False</td>\n",
              "      <td>-1</td>\n",
              "      <td>0</td>\n",
              "      <td>False</td>\n",
              "      <td>-1</td>\n",
              "      <td>on</td>\n",
              "      <td>on</td>\n",
              "      <td>ton</td>\n",
              "      <td>7</td>\n",
              "    </tr>\n",
              "    <tr>\n",
              "      <th>5716</th>\n",
              "      <td>marleen</td>\n",
              "      <td>female</td>\n",
              "      <td>m</td>\n",
              "      <td>n</td>\n",
              "      <td>False</td>\n",
              "      <td>1</td>\n",
              "      <td>True</td>\n",
              "      <td>1</td>\n",
              "      <td>0</td>\n",
              "      <td>False</td>\n",
              "      <td>...</td>\n",
              "      <td>0</td>\n",
              "      <td>False</td>\n",
              "      <td>-1</td>\n",
              "      <td>0</td>\n",
              "      <td>False</td>\n",
              "      <td>-1</td>\n",
              "      <td>en</td>\n",
              "      <td>en</td>\n",
              "      <td>een</td>\n",
              "      <td>7</td>\n",
              "    </tr>\n",
              "    <tr>\n",
              "      <th>2312</th>\n",
              "      <td>tyler</td>\n",
              "      <td>male</td>\n",
              "      <td>t</td>\n",
              "      <td>r</td>\n",
              "      <td>False</td>\n",
              "      <td>0</td>\n",
              "      <td>False</td>\n",
              "      <td>-1</td>\n",
              "      <td>0</td>\n",
              "      <td>False</td>\n",
              "      <td>...</td>\n",
              "      <td>1</td>\n",
              "      <td>True</td>\n",
              "      <td>1</td>\n",
              "      <td>0</td>\n",
              "      <td>False</td>\n",
              "      <td>-1</td>\n",
              "      <td>er</td>\n",
              "      <td>er</td>\n",
              "      <td>ler</td>\n",
              "      <td>5</td>\n",
              "    </tr>\n",
              "    <tr>\n",
              "      <th>251</th>\n",
              "      <td>benjamin</td>\n",
              "      <td>male</td>\n",
              "      <td>b</td>\n",
              "      <td>n</td>\n",
              "      <td>False</td>\n",
              "      <td>1</td>\n",
              "      <td>True</td>\n",
              "      <td>4</td>\n",
              "      <td>1</td>\n",
              "      <td>True</td>\n",
              "      <td>...</td>\n",
              "      <td>0</td>\n",
              "      <td>False</td>\n",
              "      <td>-1</td>\n",
              "      <td>0</td>\n",
              "      <td>False</td>\n",
              "      <td>-1</td>\n",
              "      <td>in</td>\n",
              "      <td>in</td>\n",
              "      <td>min</td>\n",
              "      <td>8</td>\n",
              "    </tr>\n",
              "  </tbody>\n",
              "</table>\n",
              "<p>5 rows × 87 columns</p>\n",
              "</div>\n",
              "      <button class=\"colab-df-convert\" onclick=\"convertToInteractive('df-b8637fb4-99cf-437b-bf3b-57cb56217310')\"\n",
              "              title=\"Convert this dataframe to an interactive table.\"\n",
              "              style=\"display:none;\">\n",
              "        \n",
              "  <svg xmlns=\"http://www.w3.org/2000/svg\" height=\"24px\"viewBox=\"0 0 24 24\"\n",
              "       width=\"24px\">\n",
              "    <path d=\"M0 0h24v24H0V0z\" fill=\"none\"/>\n",
              "    <path d=\"M18.56 5.44l.94 2.06.94-2.06 2.06-.94-2.06-.94-.94-2.06-.94 2.06-2.06.94zm-11 1L8.5 8.5l.94-2.06 2.06-.94-2.06-.94L8.5 2.5l-.94 2.06-2.06.94zm10 10l.94 2.06.94-2.06 2.06-.94-2.06-.94-.94-2.06-.94 2.06-2.06.94z\"/><path d=\"M17.41 7.96l-1.37-1.37c-.4-.4-.92-.59-1.43-.59-.52 0-1.04.2-1.43.59L10.3 9.45l-7.72 7.72c-.78.78-.78 2.05 0 2.83L4 21.41c.39.39.9.59 1.41.59.51 0 1.02-.2 1.41-.59l7.78-7.78 2.81-2.81c.8-.78.8-2.07 0-2.86zM5.41 20L4 18.59l7.72-7.72 1.47 1.35L5.41 20z\"/>\n",
              "  </svg>\n",
              "      </button>\n",
              "      \n",
              "  <style>\n",
              "    .colab-df-container {\n",
              "      display:flex;\n",
              "      flex-wrap:wrap;\n",
              "      gap: 12px;\n",
              "    }\n",
              "\n",
              "    .colab-df-convert {\n",
              "      background-color: #E8F0FE;\n",
              "      border: none;\n",
              "      border-radius: 50%;\n",
              "      cursor: pointer;\n",
              "      display: none;\n",
              "      fill: #1967D2;\n",
              "      height: 32px;\n",
              "      padding: 0 0 0 0;\n",
              "      width: 32px;\n",
              "    }\n",
              "\n",
              "    .colab-df-convert:hover {\n",
              "      background-color: #E2EBFA;\n",
              "      box-shadow: 0px 1px 2px rgba(60, 64, 67, 0.3), 0px 1px 3px 1px rgba(60, 64, 67, 0.15);\n",
              "      fill: #174EA6;\n",
              "    }\n",
              "\n",
              "    [theme=dark] .colab-df-convert {\n",
              "      background-color: #3B4455;\n",
              "      fill: #D2E3FC;\n",
              "    }\n",
              "\n",
              "    [theme=dark] .colab-df-convert:hover {\n",
              "      background-color: #434B5C;\n",
              "      box-shadow: 0px 1px 3px 1px rgba(0, 0, 0, 0.15);\n",
              "      filter: drop-shadow(0px 1px 2px rgba(0, 0, 0, 0.3));\n",
              "      fill: #FFFFFF;\n",
              "    }\n",
              "  </style>\n",
              "\n",
              "      <script>\n",
              "        const buttonEl =\n",
              "          document.querySelector('#df-b8637fb4-99cf-437b-bf3b-57cb56217310 button.colab-df-convert');\n",
              "        buttonEl.style.display =\n",
              "          google.colab.kernel.accessAllowed ? 'block' : 'none';\n",
              "\n",
              "        async function convertToInteractive(key) {\n",
              "          const element = document.querySelector('#df-b8637fb4-99cf-437b-bf3b-57cb56217310');\n",
              "          const dataTable =\n",
              "            await google.colab.kernel.invokeFunction('convertToInteractive',\n",
              "                                                     [key], {});\n",
              "          if (!dataTable) return;\n",
              "\n",
              "          const docLinkHtml = 'Like what you see? Visit the ' +\n",
              "            '<a target=\"_blank\" href=https://colab.research.google.com/notebooks/data_table.ipynb>data table notebook</a>'\n",
              "            + ' to learn more about interactive tables.';\n",
              "          element.innerHTML = '';\n",
              "          dataTable['output_type'] = 'display_data';\n",
              "          await google.colab.output.renderOutput(dataTable, element);\n",
              "          const docLink = document.createElement('div');\n",
              "          docLink.innerHTML = docLinkHtml;\n",
              "          element.appendChild(docLink);\n",
              "        }\n",
              "      </script>\n",
              "    </div>\n",
              "  </div>\n",
              "  "
            ]
          },
          "metadata": {},
          "execution_count": 169
        }
      ]
    },
    {
      "cell_type": "markdown",
      "source": [
        "#### Method:\n",
        "As seen below that with the classification of Using Naive Bayes and Decision Tree, that the Naive Bayes has a higher test accuracy of 87.6% compared to 78.2% accuracy respectively. Briefly going through the whole thing, I imported the names file from nltk.corpus and using these names. I removed the Unisex name in order to not have a double count and to strictly decided if the gender of the name was male or female. With this subgroup of names, the feature engineering was to then take the name as the input and return different features such as: First letter, Last letter, the length of the words, the suffix and the counts and if it contains each letter."
      ],
      "metadata": {
        "id": "uqXTJJ70s9DY"
      }
    },
    {
      "cell_type": "code",
      "source": [
        "test_features = [(gender_features(n), g) for n, g in zip(test_set['Name'], test_set['Gender'])]\n",
        "dev_test_features = [(gender_features(n), g) for n, g in zip(dev_test_set['Name'], dev_test_set['Gender'])]\n",
        "train_features = [(gender_features(n), g) for n, g in zip(train_set['Name'], train_set['Gender'])]\n",
        "\n",
        "# Classify using Naive Bayes and Decision Tree\n",
        "classifier_NB = nltk.NaiveBayesClassifier.train(train_features)\n",
        "classifier_DT = nltk.DecisionTreeClassifier.train(train_features)\n",
        "\n",
        "# Training accuracy\n",
        "print(\"Training Accuracy For Naive Bayes:\", nltk.classify.accuracy(classifier_NB, train_features))\n",
        "print(\"Training Accuracy For Decision Tree:\", nltk.classify.accuracy(classifier_DT, train_features))\n",
        "\n",
        "# Dev-Test Accuracy\n",
        "dev_test_actual = dev_test_set['Gender'].tolist()\n",
        "dev_test_NB_predicted = [classifier_NB.classify(gender_features(n)) for n in dev_test_set['Name']]\n",
        "dev_test_DT_predicted = [classifier_DT.classify(gender_features(n)) for n in dev_test_set['Name']]\n",
        "\n",
        "print(\"Dev-Test Accuracy For Naive Bayes:\", accuracy_score(dev_test_actual, dev_test_NB_predicted))\n",
        "print(\"Dev-Test Accuracy For Decision Tree:\", accuracy_score(dev_test_actual, dev_test_DT_predicted))\n",
        "\n",
        "# Test Accuracy\n",
        "test_actual = test_set['Gender'].tolist()\n",
        "test_NB_predicted = [classifier_NB.classify(gender_features(n)) for n in test_set['Name']]\n",
        "test_DT_predicted = [classifier_DT.classify(gender_features(n)) for n in test_set['Name']]\n",
        "\n",
        "print(\"Test Accuracy For Naive Bayes:\", accuracy_score(test_actual, test_NB_predicted))\n",
        "print(\"Test Accuracy For Decision Tree:\", accuracy_score(test_actual, test_DT_predicted))"
      ],
      "metadata": {
        "colab": {
          "base_uri": "https://localhost:8080/"
        },
        "id": "ATyEAMzEfpXP",
        "outputId": "4eeb29b9-623a-4409-9944-52b1529478a6"
      },
      "execution_count": 166,
      "outputs": [
        {
          "output_type": "stream",
          "name": "stdout",
          "text": [
            "Training Accuracy For Naive Bayes: 0.859005311443747\n",
            "Training Accuracy For Decision Tree: 0.9946885562530179\n",
            "Dev-Test Accuracy For Naive Bayes: 0.842\n",
            "Dev-Test Accuracy For Decision Tree: 0.792\n",
            "Test Accuracy For Naive Bayes: 0.876\n",
            "Test Accuracy For Decision Tree: 0.782\n"
          ]
        }
      ]
    },
    {
      "cell_type": "markdown",
      "source": [
        "### Alternative Method:\n",
        "\n",
        "Below I want to try and see if I could stack the classifiers by doing a Naive Bayes Model then a Decision Tree with a final Naive Bayes Model. The hope is to get a better test accuracy than 87.6 % and 78.2 %. As shown from the results with Test Accuracy for the first Naive Bayes being 81.4 %, Decision Tree at 54.2% and Naive Bayes 2 being at 75.8% accuracy. This results in that my stacking classifiers isn't more accurate than using just one classification. I will note that I did try and use the function stacking_classifier() as seen below but I ran into some issues where it ultimately had to be scrapped. So I am a little curious to see if using that function from sklearn.ensmble would make the stacking classifers work better.\n",
        "\n",
        "```\n",
        "stacking_classifier = StackingClassifier(\n",
        "    estimators=[('nb', classifier_NB), ('dt', classifier_DT)],\n",
        "    final_estimator=DecisionTreeClassifier()\n",
        ")\n",
        "stacking_classifier.fit(train_features, train_labels)\n",
        "```\n",
        "\n",
        ""
      ],
      "metadata": {
        "id": "5sRZfKROoAed"
      }
    },
    {
      "cell_type": "code",
      "source": [
        "# Creating featuresets\n",
        "train_names = train_set['Name'].tolist()\n",
        "dev_test_names = dev_test_set['Name'].tolist()\n",
        "test_names = test_set['Name'].tolist()\n",
        "\n",
        "train_labels = train_set['Gender'].tolist()\n",
        "dev_test_labels = dev_test_set['Gender'].tolist()\n",
        "test_labels = test_set['Gender'].tolist()\n",
        "\n",
        "# Label Enconding\n",
        "label_encoder = LabelEncoder()\n",
        "train_labels_encoded = label_encoder.fit_transform(train_labels)\n",
        "dev_test_labels_encoded = label_encoder.transform(dev_test_labels)\n",
        "test_labels_encoded = label_encoder.transform(test_labels)\n",
        "\n",
        "# Convert to matrix representation\n",
        "vectorizer = CountVectorizer(analyzer='char', ngram_range=(2, 3))\n",
        "train_features_matrix = vectorizer.fit_transform(train_names)\n",
        "dev_test_features_matrix = vectorizer.transform(dev_test_names)\n",
        "test_features_matrix = vectorizer.transform(test_names)\n"
      ],
      "metadata": {
        "id": "NHl2zieZjCAx"
      },
      "execution_count": 167,
      "outputs": []
    },
    {
      "cell_type": "code",
      "source": [
        "# Initial Naive Bayes model\n",
        "classifier_NB_1 = MultinomialNB()\n",
        "classifier_NB_1.fit(train_features_matrix, train_labels_encoded)\n",
        "\n",
        "# Using predictions(NB1) as features\n",
        "nb1_predictions = classifier_NB_1.predict(train_features_matrix)\n",
        "train_features_stacked = np.hstack((train_features_matrix.toarray(), np.array(nb1_predictions).reshape(-1, 1)))\n",
        "\n",
        "# Decision Tree model\n",
        "classifier_DT = DecisionTreeClassifier()\n",
        "classifier_DT.fit(train_features_stacked, train_labels_encoded)\n",
        "\n",
        "# Combining predictions from both models\n",
        "nb1_predictions_dev = classifier_NB_1.predict(dev_test_features_matrix)\n",
        "dev_features_stacked = np.hstack((dev_test_features_matrix.toarray(), np.array(nb1_predictions_dev).reshape(-1, 1)))\n",
        "\n",
        "# Second Naive Bayes model\n",
        "classifier_NB_2 = MultinomialNB()\n",
        "classifier_NB_2.fit(dev_features_stacked, dev_test_labels_encoded)\n",
        "nb1_predictions_test = classifier_NB_1.predict(test_features_matrix)\n",
        "test_features_stacked = np.hstack((test_features_matrix.toarray(), np.array(nb1_predictions_test).reshape(-1, 1)))\n",
        "nb2_predictions = classifier_NB_2.predict(test_features_stacked)\n",
        "\n",
        "# Accuracy Test\n",
        "test_labels_decoded = label_encoder.inverse_transform(test_labels_encoded)\n",
        "nb1_predictions_decoded = label_encoder.inverse_transform(nb1_predictions_test)\n",
        "print(\"Test Accuracy For Naive Bayes 1:\", accuracy_score(test_labels_decoded, nb1_predictions_decoded))\n",
        "\n",
        "dt_predictions = classifier_DT.predict(dev_features_stacked)\n",
        "dt_predictions_decoded = label_encoder.inverse_transform(dt_predictions)\n",
        "print(\"Test Accuracy For Decision Tree:\", accuracy_score(test_labels_decoded, dt_predictions_decoded))\n",
        "\n",
        "nb2_predictions_decoded = label_encoder.inverse_transform(nb2_predictions)\n",
        "print(\"Test Accuracy For Naive Bayes 2:\", accuracy_score(test_labels_decoded, nb2_predictions_decoded))\n"
      ],
      "metadata": {
        "colab": {
          "base_uri": "https://localhost:8080/"
        },
        "id": "xeJCRyMWmgGW",
        "outputId": "211585e0-4b88-4224-b461-ee22093772b2"
      },
      "execution_count": 168,
      "outputs": [
        {
          "output_type": "stream",
          "name": "stdout",
          "text": [
            "Test Accuracy For Naive Bayes 1: 0.814\n",
            "Test Accuracy For Decision Tree: 0.542\n",
            "Test Accuracy For Naive Bayes 2: 0.758\n"
          ]
        }
      ]
    }
  ]
}